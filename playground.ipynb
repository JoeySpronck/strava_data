{
 "cells": [
  {
   "cell_type": "code",
   "execution_count": null,
   "id": "a6715fac",
   "metadata": {},
   "outputs": [],
   "source": [
    "import importlib\n",
    "import strava_data\n",
    "import strava_data.authentication\n",
    "import strava_data.visualization\n",
    "importlib.reload(strava_data)\n",
    "importlib.reload(strava_data.authentication)\n",
    "importlib.reload(strava_data.visualization)\n",
    "\n",
    "# --- Now import what you need ---\n",
    "from strava_data.authentication import login\n",
    "import strava_data.visualization as vis\n",
    "import pandas as pd\n",
    "import numpy as np"
   ]
  },
  {
   "cell_type": "markdown",
   "id": "3c660ae3",
   "metadata": {},
   "source": [
    "# Login"
   ]
  },
  {
   "cell_type": "code",
   "execution_count": null,
   "id": "3ba5461d",
   "metadata": {},
   "outputs": [],
   "source": [
    "client = login()"
   ]
  },
  {
   "cell_type": "markdown",
   "id": "fc21d6cf",
   "metadata": {},
   "source": [
    "# Get activities"
   ]
  },
  {
   "cell_type": "code",
   "execution_count": null,
   "id": "3c6ed695",
   "metadata": {},
   "outputs": [],
   "source": [
    "activities_object = client.get_activities(limit=1000)\n",
    "activities = list(activities_object)\n",
    "\n",
    "def get_activity_data(activity):\n",
    "    activity_dict = dict(activity)\n",
    "    col_names = ['id','type', 'name', 'distance', 'moving_time', 'elapsed_time',\n",
    "                 'total_elevation_gain', 'start_date', 'start_latlng', 'kilojoules',\n",
    "                 'average_heartrate', 'max_heartrate', 'elev_high', 'elev_low',\n",
    "                 'average_speed', 'max_speed']\n",
    "    activity_data = {k: activity_dict[k] for k in col_names}\n",
    "    return activity_data\n",
    "\n",
    "activities_data = [get_activity_data(a) for a in activities]\n",
    "df_activities = pd.DataFrame(activities_data)"
   ]
  },
  {
   "cell_type": "markdown",
   "id": "63a94d1e",
   "metadata": {},
   "source": [
    "# Weekly stack plots"
   ]
  },
  {
   "cell_type": "code",
   "execution_count": null,
   "id": "b5d3034a",
   "metadata": {},
   "outputs": [],
   "source": [
    "vis.plot_weekly_col_distance(df_activities)\n",
    "vis.plot_weekly_col_pace(df_activities)\n",
    "vis.plot_weekly_col_risk(df_activities)"
   ]
  },
  {
   "cell_type": "markdown",
   "id": "fa8f5a61",
   "metadata": {},
   "source": [
    "# Weekly targets"
   ]
  },
  {
   "cell_type": "code",
   "execution_count": null,
   "id": "0d8a956e",
   "metadata": {},
   "outputs": [],
   "source": [
    "vis.plot_weekly_distance_targets(df_activities)"
   ]
  },
  {
   "cell_type": "markdown",
   "id": "a7c25f1c",
   "metadata": {},
   "source": [
    "# Example week plans"
   ]
  },
  {
   "cell_type": "code",
   "execution_count": null,
   "id": "ef59ddb8",
   "metadata": {},
   "outputs": [],
   "source": [
    "week_target = 28.1"
   ]
  },
  {
   "cell_type": "code",
   "execution_count": null,
   "id": "9f3eaa33",
   "metadata": {},
   "outputs": [],
   "source": [
    "for runs in [3, 4, 5]:\n",
    "    vis.plot_week_plan(week_target, runs)"
   ]
  },
  {
   "cell_type": "markdown",
   "id": "3d47252f",
   "metadata": {},
   "source": [
    "# Proposed week plans given current week's runs"
   ]
  },
  {
   "cell_type": "code",
   "execution_count": null,
   "id": "840a348b",
   "metadata": {},
   "outputs": [],
   "source": [
    "for runs in [3, 4, 5]:\n",
    "    vis.plot_current_week_plan(df_activities, week_target, runs=runs, exclude_today=False)"
   ]
  },
  {
   "cell_type": "code",
   "execution_count": null,
   "id": "09b9ce21",
   "metadata": {},
   "outputs": [],
   "source": []
  }
 ],
 "metadata": {
  "kernelspec": {
   "display_name": "strava_data",
   "language": "python",
   "name": "python3"
  },
  "language_info": {
   "codemirror_mode": {
    "name": "ipython",
    "version": 3
   },
   "file_extension": ".py",
   "mimetype": "text/x-python",
   "name": "python",
   "nbconvert_exporter": "python",
   "pygments_lexer": "ipython3",
   "version": "3.11.11"
  }
 },
 "nbformat": 4,
 "nbformat_minor": 5
}
